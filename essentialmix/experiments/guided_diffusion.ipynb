{
 "cells": [
  {
   "cell_type": "code",
   "execution_count": 1,
   "metadata": {
    "collapsed": true,
    "ExecuteTime": {
     "start_time": "2023-04-22T17:34:53.458327Z",
     "end_time": "2023-04-22T17:34:54.299770Z"
    }
   },
   "outputs": [],
   "source": [
    "import numpy as np\n",
    "import torch\n",
    "import math\n",
    "import seaborn as sns\n",
    "import matplotlib.pyplot as plt\n",
    "\n",
    "from dataclasses import dataclass\n",
    "from models.externals.guided_diffusion import UNetModel"
   ]
  },
  {
   "cell_type": "code",
   "execution_count": 2,
   "outputs": [],
   "source": [
    "T = 1000"
   ],
   "metadata": {
    "collapsed": false,
    "ExecuteTime": {
     "start_time": "2023-04-22T17:34:54.299205Z",
     "end_time": "2023-04-22T17:34:54.304202Z"
    }
   }
  },
  {
   "cell_type": "code",
   "execution_count": 3,
   "outputs": [],
   "source": [
    "def linear_betas(num_diffusion_timesteps: int, beta_start: float = 0.0001, beta_end: float = 0.02) -> torch.Tensor:\n",
    "    scale = T / num_diffusion_timesteps\n",
    "    return torch.linspace(\n",
    "        beta_start * scale,\n",
    "        beta_end * scale,\n",
    "        num_diffusion_timesteps\n",
    "    )\n",
    "\n",
    "def cosine_betas(num_diffusion_timesteps: int, s: float = 0.008, max_beta: float = 0.999) -> torch.Tensor:\n",
    "    alpha_bar = lambda t: math.cos((t + s) / (1 + s) * math.pi / 2) ** 2\n",
    "    betas = []\n",
    "    for i in range(num_diffusion_timesteps):\n",
    "        t1 = i / num_diffusion_timesteps\n",
    "        t2 = (i + 1) / num_diffusion_timesteps\n",
    "        betas.append(min(1 - alpha_bar(t2) / alpha_bar(t1), max_beta))\n",
    "    return torch.tensor(betas)\n",
    "\n",
    "\n",
    "class GaussianDiffusion:\n",
    "    def __init__(self, model: UNetModel, num_diffusion_timesteps: int = T, noise_schedule: str = 'linear'):\n",
    "        self.model = model\n",
    "        self.num_diffusion_timesteps = num_diffusion_timesteps\n",
    "        self.noise_schedule = noise_schedule\n",
    "        self.betas: torch.Tensor = (\n",
    "            linear_betas(num_diffusion_timesteps)\n",
    "            if self.noise_schedule == 'linear'\n",
    "            else cosine_betas(num_diffusion_timesteps)\n",
    "        )\n",
    "        self.alpha_t = 1 - self.betas\n",
    "        self.alpha_bar = torch.cumprod(self.alpha_t, dim=0)\n",
    "\n",
    "    def denoise_at_t(self, x_t: torch.Tensor, t: torch.Tensor) -> torch.Tensor:\n",
    "        if t > 1:\n",
    "            z = torch.randn_like(x_t)\n",
    "        else:\n",
    "            z = 0\n",
    "\n",
    "        model_output = self.model(x_t, t)\n",
    "        x_prev = 1 / torch.sqrt(self.alpha_t[t]) * (\n",
    "            x_t - (1 - self.alpha_t[t]) / torch.sqrt(1-self.alpha_bar[t]) * model_output\n",
    "        )\n",
    "        x_prev += self.betas[t] * z  # TODO non-fixed\n",
    "        return x_prev\n",
    "\n",
    "    def denoise(self) -> torch.Tensor:\n",
    "        x = torch.randn(size=(self.model.in_channels, self.model.image_size, self.model.in_channels))\n",
    "        for t in range(self.num_diffusion_timesteps)[::-1]:\n",
    "            x = self.denoise_at_t(x, t)\n",
    "        return x"
   ],
   "metadata": {
    "collapsed": false,
    "ExecuteTime": {
     "start_time": "2023-04-22T17:34:54.308525Z",
     "end_time": "2023-04-22T17:34:54.309770Z"
    }
   }
  },
  {
   "cell_type": "code",
   "execution_count": null,
   "outputs": [],
   "source": [
    "\n",
    "\n",
    "    gd = GaussianDiffusion(\n",
    "        model=None,\n",
    "        num_diffusion_timesteps=1000,\n",
    "        noise_schedule='cosine',\n",
    "    )\n",
    "    sns.lineplot(gd.alpha_bar)\n",
    "    plt.show()\n"
   ],
   "metadata": {
    "collapsed": false
   }
  }
 ],
 "metadata": {
  "kernelspec": {
   "display_name": "Python 3",
   "language": "python",
   "name": "python3"
  },
  "language_info": {
   "codemirror_mode": {
    "name": "ipython",
    "version": 2
   },
   "file_extension": ".py",
   "mimetype": "text/x-python",
   "name": "python",
   "nbconvert_exporter": "python",
   "pygments_lexer": "ipython2",
   "version": "2.7.6"
  }
 },
 "nbformat": 4,
 "nbformat_minor": 0
}
